{
 "cells": [
  {
   "cell_type": "code",
   "execution_count": 4,
   "metadata": {},
   "outputs": [
    {
     "name": "stdout",
     "output_type": "stream",
     "text": [
      "1\n"
     ]
    }
   ],
   "source": [
    "a, b, c = [1, 2, 3]\n",
    "print(a)"
   ]
  },
  {
   "cell_type": "code",
   "execution_count": 5,
   "metadata": {},
   "outputs": [],
   "source": [
    "import numpy as np\n",
    "from skimage.filters import threshold_otsu\n",
    "from skimage.measure import label\n",
    "from skimage.io import imsave, imread\n",
    "import napari\n",
    "from skimage.morphology import watershed\n",
    "from skimage.feature import peak_local_max\n",
    "from scipy import ndimage\n",
    "import roifile\n",
    "\n",
    "%gui qt\n",
    "\n",
    "def blob(pos, center, size, intensity=10, xy_symmetric=True):\n",
    "    \"\"\"3D Gaussian\n",
    "    pos: 3 arrays of x, y, and z values\n",
    "    center : tuple of 3 floats for the gaussian center position\n",
    "    size: tuple of 3 floats for the gaussian widths\n",
    "\n",
    "    \"\"\"\n",
    "    x, y, z = pos\n",
    "    # The idea is to make the computation in a 5D array\n",
    "    # of shape ()\n",
    "    \n",
    "    x = x[np.newaxis, :, :, :] # 1, nx, ny, nz\n",
    "    y = y[np.newaxis, :, :, :]\n",
    "    z = z[np.newaxis, :, :, :]\n",
    "    \n",
    "    x0, y0, z0 = center.T\n",
    "    x0 = x0[:, np.newaxis, np.newaxis, np.newaxis] # n_cells, 1, 1, 1\n",
    "    y0 = y0[:, np.newaxis, np.newaxis, np.newaxis]\n",
    "    z0 = z0[:, np.newaxis, np.newaxis, np.newaxis]\n",
    "    sx, sy, sz = size.T[:, :, np.newaxis, np.newaxis, np.newaxis]\n",
    "    \n",
    "    intensity = intensity[:, np.newaxis, np.newaxis, np.newaxis]# n_cells, 1, 1, 1\n",
    "    \n",
    "    if xy_symmetric:\n",
    "        sy = sx\n",
    "        \n",
    "\n",
    "    print(((x - x0)/sx).shape)\n",
    "    # broadcasting\n",
    "    sig = (\n",
    "        np.exp(-(((x - x0) / sx) ** 2))\n",
    "        * np.exp(-(((y - y0) / sy) ** 2))\n",
    "        * np.exp(-(((z - z0) / sz) ** 2))\n",
    "        * intensity\n",
    "    ) # n_cells, n_x, n_y, n_z\n",
    "    print(sig.shape)\n",
    "    sig = sig.sum(axis=0) # n_x, n_y, n_z\n",
    "    return sig\n",
    "\n",
    "\n",
    "def generate_blobs(num_cells, shape, dtype, seed=0):\n",
    "    \"\"\" Creates an image of shape `shape` with num_cells blobs in it\n",
    "    \"\"\"\n",
    "    rng = np.random.default_rng(seed)\n",
    "    cell_size = (5, 5, 1)\n",
    "    cell_size_std = (1, 1, 0.01)\n",
    "    max_int = 100\n",
    "    max_int_std = 30\n",
    "\n",
    "    centers = rng.integers(low=np.zeros(3), high=shape, size=(num_cells, 3))\n",
    "\n",
    "    sizes = rng.normal(loc=cell_size, scale=cell_size_std, size=(num_cells, 3))\n",
    "\n",
    "    intensities0 = rng.normal(loc=max_int, scale=max_int_std, size=num_cells)\n",
    "    intensities1 = rng.normal(loc=max_int, scale=max_int_std, size=num_cells)\n",
    "\n",
    "    \n",
    "    stack0 = np.zeros(shape)\n",
    "    stack1 = np.zeros(shape)\n",
    "    \n",
    "    \n",
    "    pos = np.mgrid[ :shape[0], :shape[1], :shape[2]] # xyz\n",
    "    \n",
    "    stack0 += blob(pos, centers, sizes, intensities0)\n",
    "    stack1 += blob(pos, centers, sizes, intensities1)\n",
    "    #print(f\"z = {z} / {shape[-1]}\")\n",
    "    \n",
    "    stack0 = (stack0 / stack0.max()) * dtype(-1) # np.uint8 -> 255\n",
    "    stack1 = (stack1 / stack1.max()) * dtype(-1)\n",
    "    \n",
    "    stack0 = stack0.clip(0).swapaxes(0, 2).astype(dtype)  # zyx\n",
    "    stack1 = stack1.clip(0).swapaxes(0, 2).astype(dtype)  # zyx\n",
    "    \n",
    "    return stack0, stack1\n",
    "\n",
    "\n",
    "def make_3canals(num_cells, shape, dtype, seed=0):\n",
    "    \"\"\" Creates a 3 canals stack with the blobs, a transformed value\n",
    "    (as a way to add diversity) and the labels from a simple thresholding\n",
    "    \"\"\"\n",
    "    canal0, canal1 = generate_blobs(num_cells, shape, dtype, seed=seed)\n",
    "    # apply threshold\n",
    "    thresh = threshold_otsu(canal0)\n",
    "    bw = canal0 > thresh\n",
    "    canal2 = label(bw).astype(dtype) # max 255 cells !!\n",
    "    \n",
    "    return np.stack([canal0, canal1, canal2]) \n",
    "\n",
    "\n",
    "\n",
    "def create_tiff(fname, num_cells, shape, dtype=np.uint8):\n",
    "    \"\"\"Creates an image with make_3canals and saves it to fname\n",
    "    num_cells: the number of blobs in the image\n",
    "    shape : tuple of ints, the image shape (as x, y, z)\n",
    "    dtype : the image dtype (default uint8)\n",
    "    \"\"\"\n",
    "    image = make_3canals(num_cells, shape, dtype)\n",
    "    imsave(fname, image, plugin=\"tifffile\", metadata={'axes': 'CZYX'})\n",
    "    return image\n",
    "\n",
    "def main():\n",
    "    shape = (1024, 1024, 10)\n",
    "    num_cells = 1000\n",
    "    image = create_tiff(\"test.tif\", num_cells, shape)\n",
    "    return image"
   ]
  },
  {
   "cell_type": "code",
   "execution_count": 6,
   "metadata": {},
   "outputs": [
    {
     "data": {
      "text/plain": [
       "[3, 4, 5, 6]"
      ]
     },
     "execution_count": 6,
     "metadata": {},
     "output_type": "execute_result"
    }
   ],
   "source": [
    "max_lbl = 0\n",
    "[0, 1, 2, 3]\n",
    "\n",
    "max_lbl = 3\n",
    "[3, 4, 5, 6]\n",
    "\n"
   ]
  },
  {
   "cell_type": "code",
   "execution_count": null,
   "metadata": {},
   "outputs": [
    {
     "name": "stdout",
     "output_type": "stream",
     "text": [
      "(3, 4, 1024, 1024)\n",
      "\t## cell lot 0 / 10\n",
      "(100, 1024, 1024, 4)\n"
     ]
    }
   ],
   "source": [
    "\n",
    "def chunked(shape, n_cells, chunk_size=100, dtype=np.uint16):\n",
    "    cell_lots =  n_cells // chunk_size\n",
    "\n",
    "    stack = np.zeros(\n",
    "        (3, shape[-1], shape[0], shape[1]), #CZXY\n",
    "        dtype=np.uint8\n",
    "    ) \n",
    "    max_lbl = 0\n",
    "    # parallelize ?\n",
    "    for i in range(cell_lots):\n",
    "        print(stack.shape)\n",
    "        print(f\"\\t## cell lot {i} / {cell_lots}\")\n",
    "        sstack = make_3canals(chunk_size, shape, dtype, seed=i)\n",
    "        sstack[2, :, :][sstack[-1]!=0] += max_lbl # boolean indexing\n",
    "        sstack[:2, ...] = sstack[:2, ...] // cell_lots\n",
    "        max_lbl =a\n",
    "        \n",
    "        \n",
    "        stack += sstack\n",
    "\n",
    "    stack[-1, ...] -= stack[-1, ...].min()\n",
    "    return stack\n",
    "    \n",
    "shape = (1024, 1024, 4) # XYZ\n",
    "n_cells = 1000\n",
    "stack = chunked(shape, n_cells)\n",
    "print(stack.shape)\n"
   ]
  },
  {
   "cell_type": "code",
   "execution_count": 8,
   "metadata": {
    "scrolled": true
   },
   "outputs": [
    {
     "data": {
      "text/plain": [
       "Viewer(axes=Axes(visible=False, labels=True, colored=True, dashed=False, arrows=True), camera=Camera(center=(0.0, 511.5, 511.5), zoom=0.3807429130009775, angles=(0.0, 0.0, 90.0), interactive=True), cursor=Cursor(position=(0.0, 0.0, 0.0), scaled=True, size=1, style='standard'), dims=Dims(ndim=3, ndisplay=2, last_used=2, range=((0.0, 0.0, 1.0), (0.0, 1023.0, 1.0), (0.0, 1023.0, 1.0)), current_step=(0, 0, 0), order=(0, 1, 2), axis_labels=('0', '1', '2')), grid=GridCanvas(enabled=False, stride=1, shape=(-1, -1)), layers=[<Image layer 'Image' at 0x2e8b26ba4c0>, <Image layer 'Image [1]' at 0x2e8b26bab80>, <Image layer 'Image [2]' at 0x2e8b5e646a0>], scale_bar=ScaleBar(visible=False, colored=False, ticks=True, position='bottom_right'), active_layer=<Image layer 'Image [2]' at 0x2e8b5e646a0>, help='', status='Ready', theme='dark', title='napari', mouse_move_callbacks=[], mouse_drag_callbacks=[], mouse_wheel_callbacks=[<function dims_scroll at 0x000002E8A9C8EF70>], _persisted_mouse_event={}, _mouse_drag_gen={}, _mouse_wheel_gen={}, keymap={})"
      ]
     },
     "execution_count": 8,
     "metadata": {},
     "output_type": "execute_result"
    }
   ],
   "source": [
    "napari.view_image(stack, channel_axis=0)"
   ]
  },
  {
   "cell_type": "code",
   "execution_count": 6,
   "metadata": {},
   "outputs": [],
   "source": [
    "imsave(\"nap2.tif\", stack, plugin=\"tifffile\", metadata={'axes': 'CZYX'})\n"
   ]
  },
  {
   "cell_type": "code",
   "execution_count": null,
   "metadata": {},
   "outputs": [],
   "source": []
  }
 ],
 "metadata": {
  "kernelspec": {
   "display_name": "Python 3",
   "language": "python",
   "name": "python3"
  },
  "language_info": {
   "codemirror_mode": {
    "name": "ipython",
    "version": 3
   },
   "file_extension": ".py",
   "mimetype": "text/x-python",
   "name": "python",
   "nbconvert_exporter": "python",
   "pygments_lexer": "ipython3",
   "version": "3.8.5"
  }
 },
 "nbformat": 4,
 "nbformat_minor": 5
}
